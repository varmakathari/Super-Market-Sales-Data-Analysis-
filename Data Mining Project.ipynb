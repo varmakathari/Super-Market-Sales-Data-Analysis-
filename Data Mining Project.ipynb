{
 "cells": [
  {
   "cell_type": "markdown",
   "id": "37bb677f-5b41-4c5b-8696-9e4c7959cc04",
   "metadata": {},
   "source": [
    "# Data Mining ISM6136 - Final project"
   ]
  },
  {
   "cell_type": "markdown",
   "id": "59685278-b6f4-4fb6-8c26-d2dc6d6c9fb8",
   "metadata": {},
   "source": [
    "## Team Apogee"
   ]
  },
  {
   "cell_type": "markdown",
   "id": "d9d35716-cf50-43dc-9bda-6e56ca46a6f7",
   "metadata": {},
   "source": [
    "### Team members:\n",
    "#### Manish Boyina – U59955856\n",
    "#### Suryamouli Rajendra Varma Kathari – U69901705\n",
    "#### Amit Gaur – U87764295\n",
    "#### Monisha Lanka – U83830101\n",
    "#### Prasanna Eddala – U24108900\n"
   ]
  },
  {
   "cell_type": "markdown",
   "id": "14b9ace6-3ba6-4d6d-898b-8a9d21e927f3",
   "metadata": {},
   "source": [
    "## Source dataset: Real or Fake job posting prediction\n",
    "\n",
    "The data collected and research done by the University of the Aegean. This research was done in 2020 after the covid pandemic. The data is collected from different sources like careerjet, skywalker websites etc and preprocessed by the researchers. \n",
    "\n",
    "Reference link: http://emscad.samos.aegean.gr/ \n"
   ]
  },
  {
   "cell_type": "markdown",
   "id": "344babb9-76b5-4cf8-bcd0-b7fb6375809e",
   "metadata": {},
   "source": [
    "## Business problem\n",
    "\n",
    "1.Employment fraud is becoming more prevalent. \n",
    "\n",
    "2.Due to a rare incidence, many people are becoming victims of scammers who feed on their despair.\n",
    "\n",
    "3.As a student, I have encountered several of these fraudulent emails. Users are offered a highly lucrative job opportunity by the con artists.\n"
   ]
  },
  {
   "cell_type": "markdown",
   "id": "a8beb554-b4e5-49db-9ea5-08474d3ebd45",
   "metadata": {},
   "source": [
    "## Import libraries"
   ]
  },
  {
   "cell_type": "code",
   "execution_count": 37,
   "id": "e1950c74-e5c1-475f-a34d-bc352f9c16c4",
   "metadata": {},
   "outputs": [],
   "source": [
    "import numpy as np \n",
    "import pandas as pd \n",
    "import seaborn as sns\n",
    "from sklearn.preprocessing import LabelEncoder\n",
    "from sklearn.model_selection import train_test_split,GridSearchCV\n",
    "from imblearn.over_sampling import SMOTE\n",
    "from sklearn.linear_model import LogisticRegression\n",
    "from sklearn.metrics import f1_score,confusion_matrix,classification_report\n",
    "from sklearn.ensemble import RandomForestClassifier\n",
    "from sklearn.neighbors import KNeighborsClassifier\n",
    "from sklearn.tree import DecisionTreeClassifier\n",
    "from xgboost import XGBClassifier"
   ]
  },
  {
   "cell_type": "markdown",
   "id": "b8cd10a5-f1f9-429b-b8b4-e4b980b0825a",
   "metadata": {},
   "source": [
    "## Load Data"
   ]
  },
  {
   "cell_type": "code",
   "execution_count": 2,
   "id": "a876d623-a3df-4c6b-9e61-e926a00d8e2f",
   "metadata": {},
   "outputs": [
    {
     "data": {
      "text/html": [
       "<div>\n",
       "<style scoped>\n",
       "    .dataframe tbody tr th:only-of-type {\n",
       "        vertical-align: middle;\n",
       "    }\n",
       "\n",
       "    .dataframe tbody tr th {\n",
       "        vertical-align: top;\n",
       "    }\n",
       "\n",
       "    .dataframe thead th {\n",
       "        text-align: right;\n",
       "    }\n",
       "</style>\n",
       "<table border=\"1\" class=\"dataframe\">\n",
       "  <thead>\n",
       "    <tr style=\"text-align: right;\">\n",
       "      <th></th>\n",
       "      <th>job_id</th>\n",
       "      <th>title</th>\n",
       "      <th>location</th>\n",
       "      <th>department</th>\n",
       "      <th>salary_range</th>\n",
       "      <th>company_profile</th>\n",
       "      <th>description</th>\n",
       "      <th>requirements</th>\n",
       "      <th>benefits</th>\n",
       "      <th>telecommuting</th>\n",
       "      <th>has_company_logo</th>\n",
       "      <th>has_questions</th>\n",
       "      <th>employment_type</th>\n",
       "      <th>required_experience</th>\n",
       "      <th>required_education</th>\n",
       "      <th>industry</th>\n",
       "      <th>function</th>\n",
       "      <th>fraudulent</th>\n",
       "    </tr>\n",
       "  </thead>\n",
       "  <tbody>\n",
       "    <tr>\n",
       "      <th>0</th>\n",
       "      <td>1</td>\n",
       "      <td>Marketing Intern</td>\n",
       "      <td>US, NY, New York</td>\n",
       "      <td>Marketing</td>\n",
       "      <td>NaN</td>\n",
       "      <td>We're Food52, and we've created a groundbreaki...</td>\n",
       "      <td>Food52, a fast-growing, James Beard Award-winn...</td>\n",
       "      <td>Experience with content management systems a m...</td>\n",
       "      <td>NaN</td>\n",
       "      <td>0</td>\n",
       "      <td>1</td>\n",
       "      <td>0</td>\n",
       "      <td>Other</td>\n",
       "      <td>Internship</td>\n",
       "      <td>NaN</td>\n",
       "      <td>NaN</td>\n",
       "      <td>Marketing</td>\n",
       "      <td>0</td>\n",
       "    </tr>\n",
       "    <tr>\n",
       "      <th>1</th>\n",
       "      <td>2</td>\n",
       "      <td>Customer Service - Cloud Video Production</td>\n",
       "      <td>NZ, , Auckland</td>\n",
       "      <td>Success</td>\n",
       "      <td>NaN</td>\n",
       "      <td>90 Seconds, the worlds Cloud Video Production ...</td>\n",
       "      <td>Organised - Focused - Vibrant - Awesome!Do you...</td>\n",
       "      <td>What we expect from you:Your key responsibilit...</td>\n",
       "      <td>What you will get from usThrough being part of...</td>\n",
       "      <td>0</td>\n",
       "      <td>1</td>\n",
       "      <td>0</td>\n",
       "      <td>Full-time</td>\n",
       "      <td>Not Applicable</td>\n",
       "      <td>NaN</td>\n",
       "      <td>Marketing and Advertising</td>\n",
       "      <td>Customer Service</td>\n",
       "      <td>0</td>\n",
       "    </tr>\n",
       "    <tr>\n",
       "      <th>2</th>\n",
       "      <td>3</td>\n",
       "      <td>Commissioning Machinery Assistant (CMA)</td>\n",
       "      <td>US, IA, Wever</td>\n",
       "      <td>NaN</td>\n",
       "      <td>NaN</td>\n",
       "      <td>Valor Services provides Workforce Solutions th...</td>\n",
       "      <td>Our client, located in Houston, is actively se...</td>\n",
       "      <td>Implement pre-commissioning and commissioning ...</td>\n",
       "      <td>NaN</td>\n",
       "      <td>0</td>\n",
       "      <td>1</td>\n",
       "      <td>0</td>\n",
       "      <td>NaN</td>\n",
       "      <td>NaN</td>\n",
       "      <td>NaN</td>\n",
       "      <td>NaN</td>\n",
       "      <td>NaN</td>\n",
       "      <td>0</td>\n",
       "    </tr>\n",
       "    <tr>\n",
       "      <th>3</th>\n",
       "      <td>4</td>\n",
       "      <td>Account Executive - Washington DC</td>\n",
       "      <td>US, DC, Washington</td>\n",
       "      <td>Sales</td>\n",
       "      <td>NaN</td>\n",
       "      <td>Our passion for improving quality of life thro...</td>\n",
       "      <td>THE COMPANY: ESRI – Environmental Systems Rese...</td>\n",
       "      <td>EDUCATION: Bachelor’s or Master’s in GIS, busi...</td>\n",
       "      <td>Our culture is anything but corporate—we have ...</td>\n",
       "      <td>0</td>\n",
       "      <td>1</td>\n",
       "      <td>0</td>\n",
       "      <td>Full-time</td>\n",
       "      <td>Mid-Senior level</td>\n",
       "      <td>Bachelor's Degree</td>\n",
       "      <td>Computer Software</td>\n",
       "      <td>Sales</td>\n",
       "      <td>0</td>\n",
       "    </tr>\n",
       "    <tr>\n",
       "      <th>4</th>\n",
       "      <td>5</td>\n",
       "      <td>Bill Review Manager</td>\n",
       "      <td>US, FL, Fort Worth</td>\n",
       "      <td>NaN</td>\n",
       "      <td>NaN</td>\n",
       "      <td>SpotSource Solutions LLC is a Global Human Cap...</td>\n",
       "      <td>JOB TITLE: Itemization Review ManagerLOCATION:...</td>\n",
       "      <td>QUALIFICATIONS:RN license in the State of Texa...</td>\n",
       "      <td>Full Benefits Offered</td>\n",
       "      <td>0</td>\n",
       "      <td>1</td>\n",
       "      <td>1</td>\n",
       "      <td>Full-time</td>\n",
       "      <td>Mid-Senior level</td>\n",
       "      <td>Bachelor's Degree</td>\n",
       "      <td>Hospital &amp; Health Care</td>\n",
       "      <td>Health Care Provider</td>\n",
       "      <td>0</td>\n",
       "    </tr>\n",
       "  </tbody>\n",
       "</table>\n",
       "</div>"
      ],
      "text/plain": [
       "   job_id                                      title            location  \\\n",
       "0       1                           Marketing Intern    US, NY, New York   \n",
       "1       2  Customer Service - Cloud Video Production      NZ, , Auckland   \n",
       "2       3    Commissioning Machinery Assistant (CMA)       US, IA, Wever   \n",
       "3       4          Account Executive - Washington DC  US, DC, Washington   \n",
       "4       5                        Bill Review Manager  US, FL, Fort Worth   \n",
       "\n",
       "  department salary_range                                    company_profile  \\\n",
       "0  Marketing          NaN  We're Food52, and we've created a groundbreaki...   \n",
       "1    Success          NaN  90 Seconds, the worlds Cloud Video Production ...   \n",
       "2        NaN          NaN  Valor Services provides Workforce Solutions th...   \n",
       "3      Sales          NaN  Our passion for improving quality of life thro...   \n",
       "4        NaN          NaN  SpotSource Solutions LLC is a Global Human Cap...   \n",
       "\n",
       "                                         description  \\\n",
       "0  Food52, a fast-growing, James Beard Award-winn...   \n",
       "1  Organised - Focused - Vibrant - Awesome!Do you...   \n",
       "2  Our client, located in Houston, is actively se...   \n",
       "3  THE COMPANY: ESRI – Environmental Systems Rese...   \n",
       "4  JOB TITLE: Itemization Review ManagerLOCATION:...   \n",
       "\n",
       "                                        requirements  \\\n",
       "0  Experience with content management systems a m...   \n",
       "1  What we expect from you:Your key responsibilit...   \n",
       "2  Implement pre-commissioning and commissioning ...   \n",
       "3  EDUCATION: Bachelor’s or Master’s in GIS, busi...   \n",
       "4  QUALIFICATIONS:RN license in the State of Texa...   \n",
       "\n",
       "                                            benefits  telecommuting  \\\n",
       "0                                                NaN              0   \n",
       "1  What you will get from usThrough being part of...              0   \n",
       "2                                                NaN              0   \n",
       "3  Our culture is anything but corporate—we have ...              0   \n",
       "4                              Full Benefits Offered              0   \n",
       "\n",
       "   has_company_logo  has_questions employment_type required_experience  \\\n",
       "0                 1              0           Other          Internship   \n",
       "1                 1              0       Full-time      Not Applicable   \n",
       "2                 1              0             NaN                 NaN   \n",
       "3                 1              0       Full-time    Mid-Senior level   \n",
       "4                 1              1       Full-time    Mid-Senior level   \n",
       "\n",
       "  required_education                   industry              function  \\\n",
       "0                NaN                        NaN             Marketing   \n",
       "1                NaN  Marketing and Advertising      Customer Service   \n",
       "2                NaN                        NaN                   NaN   \n",
       "3  Bachelor's Degree          Computer Software                 Sales   \n",
       "4  Bachelor's Degree     Hospital & Health Care  Health Care Provider   \n",
       "\n",
       "   fraudulent  \n",
       "0           0  \n",
       "1           0  \n",
       "2           0  \n",
       "3           0  \n",
       "4           0  "
      ]
     },
     "execution_count": 2,
     "metadata": {},
     "output_type": "execute_result"
    }
   ],
   "source": [
    "data=pd.read_csv('fake_job_postings.csv')\n",
    "data.head()"
   ]
  },
  {
   "cell_type": "markdown",
   "id": "ba66b7f5-2782-4a7f-bdef-86e294e962e5",
   "metadata": {},
   "source": [
    "## Preprocessing the data"
   ]
  },
  {
   "cell_type": "code",
   "execution_count": 3,
   "id": "b1fc25ab-bb3d-4afe-a3d6-23c1e5a0a4b1",
   "metadata": {},
   "outputs": [
    {
     "data": {
      "text/plain": [
       "(Index(['job_id', 'title', 'location', 'department', 'salary_range',\n",
       "        'company_profile', 'description', 'requirements', 'benefits',\n",
       "        'telecommuting', 'has_company_logo', 'has_questions', 'employment_type',\n",
       "        'required_experience', 'required_education', 'industry', 'function',\n",
       "        'fraudulent'],\n",
       "       dtype='object'),\n",
       " (17880, 18))"
      ]
     },
     "execution_count": 3,
     "metadata": {},
     "output_type": "execute_result"
    }
   ],
   "source": [
    "data.columns, data.shape"
   ]
  },
  {
   "cell_type": "code",
   "execution_count": 4,
   "id": "5b89658a-b029-46ce-b037-f99d6078e2b5",
   "metadata": {},
   "outputs": [
    {
     "data": {
      "text/html": [
       "<div>\n",
       "<style scoped>\n",
       "    .dataframe tbody tr th:only-of-type {\n",
       "        vertical-align: middle;\n",
       "    }\n",
       "\n",
       "    .dataframe tbody tr th {\n",
       "        vertical-align: top;\n",
       "    }\n",
       "\n",
       "    .dataframe thead th {\n",
       "        text-align: right;\n",
       "    }\n",
       "</style>\n",
       "<table border=\"1\" class=\"dataframe\">\n",
       "  <thead>\n",
       "    <tr style=\"text-align: right;\">\n",
       "      <th></th>\n",
       "      <th>Data Type</th>\n",
       "      <th>No of Levels</th>\n",
       "      <th>Levels</th>\n",
       "      <th>NaN</th>\n",
       "      <th>NaN%</th>\n",
       "    </tr>\n",
       "  </thead>\n",
       "  <tbody>\n",
       "    <tr>\n",
       "      <th>job_id</th>\n",
       "      <td>int64</td>\n",
       "      <td>17880</td>\n",
       "      <td>[    1     2     3 ... 17878 17879 17880]</td>\n",
       "      <td>0</td>\n",
       "      <td>0.0</td>\n",
       "    </tr>\n",
       "    <tr>\n",
       "      <th>title</th>\n",
       "      <td>object</td>\n",
       "      <td>11231</td>\n",
       "      <td>['Marketing Intern' 'Customer Service - Cloud ...</td>\n",
       "      <td>0</td>\n",
       "      <td>0.0</td>\n",
       "    </tr>\n",
       "    <tr>\n",
       "      <th>location</th>\n",
       "      <td>object</td>\n",
       "      <td>3105</td>\n",
       "      <td>['US, NY, New York' 'NZ, , Auckland' 'US, IA, ...</td>\n",
       "      <td>346</td>\n",
       "      <td>3.5</td>\n",
       "    </tr>\n",
       "    <tr>\n",
       "      <th>department</th>\n",
       "      <td>object</td>\n",
       "      <td>1337</td>\n",
       "      <td>['Marketing' 'Success' nan ... 'Admin - Cleric...</td>\n",
       "      <td>11547</td>\n",
       "      <td>115.5</td>\n",
       "    </tr>\n",
       "    <tr>\n",
       "      <th>salary_range</th>\n",
       "      <td>object</td>\n",
       "      <td>874</td>\n",
       "      <td>[nan '20000-28000' '100000-120000' '120000-150...</td>\n",
       "      <td>15012</td>\n",
       "      <td>150.1</td>\n",
       "    </tr>\n",
       "    <tr>\n",
       "      <th>company_profile</th>\n",
       "      <td>object</td>\n",
       "      <td>1709</td>\n",
       "      <td>[\"We're Food52, and we've created a groundbrea...</td>\n",
       "      <td>3308</td>\n",
       "      <td>33.1</td>\n",
       "    </tr>\n",
       "    <tr>\n",
       "      <th>description</th>\n",
       "      <td>object</td>\n",
       "      <td>14801</td>\n",
       "      <td>['Food52, a fast-growing, James Beard Award-wi...</td>\n",
       "      <td>1</td>\n",
       "      <td>0.0</td>\n",
       "    </tr>\n",
       "    <tr>\n",
       "      <th>requirements</th>\n",
       "      <td>object</td>\n",
       "      <td>11968</td>\n",
       "      <td>['Experience with content management systems a...</td>\n",
       "      <td>2695</td>\n",
       "      <td>27.0</td>\n",
       "    </tr>\n",
       "    <tr>\n",
       "      <th>benefits</th>\n",
       "      <td>object</td>\n",
       "      <td>6205</td>\n",
       "      <td>[nan\\n 'What you will get from usThrough being...</td>\n",
       "      <td>7210</td>\n",
       "      <td>72.1</td>\n",
       "    </tr>\n",
       "    <tr>\n",
       "      <th>telecommuting</th>\n",
       "      <td>int64</td>\n",
       "      <td>2</td>\n",
       "      <td>[0 1]</td>\n",
       "      <td>0</td>\n",
       "      <td>0.0</td>\n",
       "    </tr>\n",
       "    <tr>\n",
       "      <th>has_company_logo</th>\n",
       "      <td>int64</td>\n",
       "      <td>2</td>\n",
       "      <td>[1 0]</td>\n",
       "      <td>0</td>\n",
       "      <td>0.0</td>\n",
       "    </tr>\n",
       "    <tr>\n",
       "      <th>has_questions</th>\n",
       "      <td>int64</td>\n",
       "      <td>2</td>\n",
       "      <td>[0 1]</td>\n",
       "      <td>0</td>\n",
       "      <td>0.0</td>\n",
       "    </tr>\n",
       "    <tr>\n",
       "      <th>employment_type</th>\n",
       "      <td>object</td>\n",
       "      <td>5</td>\n",
       "      <td>['Other' 'Full-time' nan 'Part-time' 'Contract...</td>\n",
       "      <td>3471</td>\n",
       "      <td>34.7</td>\n",
       "    </tr>\n",
       "    <tr>\n",
       "      <th>required_experience</th>\n",
       "      <td>object</td>\n",
       "      <td>7</td>\n",
       "      <td>['Internship' 'Not Applicable' nan 'Mid-Senior...</td>\n",
       "      <td>7050</td>\n",
       "      <td>70.5</td>\n",
       "    </tr>\n",
       "    <tr>\n",
       "      <th>required_education</th>\n",
       "      <td>object</td>\n",
       "      <td>13</td>\n",
       "      <td>[nan \"Bachelor's Degree\" \"Master's Degree\" 'Hi...</td>\n",
       "      <td>8105</td>\n",
       "      <td>81.0</td>\n",
       "    </tr>\n",
       "    <tr>\n",
       "      <th>industry</th>\n",
       "      <td>object</td>\n",
       "      <td>131</td>\n",
       "      <td>[nan 'Marketing and Advertising' 'Computer Sof...</td>\n",
       "      <td>4903</td>\n",
       "      <td>49.0</td>\n",
       "    </tr>\n",
       "    <tr>\n",
       "      <th>function</th>\n",
       "      <td>object</td>\n",
       "      <td>37</td>\n",
       "      <td>['Marketing' 'Customer Service' nan 'Sales' 'H...</td>\n",
       "      <td>6455</td>\n",
       "      <td>64.6</td>\n",
       "    </tr>\n",
       "    <tr>\n",
       "      <th>fraudulent</th>\n",
       "      <td>int64</td>\n",
       "      <td>2</td>\n",
       "      <td>[0 1]</td>\n",
       "      <td>0</td>\n",
       "      <td>0.0</td>\n",
       "    </tr>\n",
       "  </tbody>\n",
       "</table>\n",
       "</div>"
      ],
      "text/plain": [
       "                    Data Type  No of Levels  \\\n",
       "job_id                  int64         17880   \n",
       "title                  object         11231   \n",
       "location               object          3105   \n",
       "department             object          1337   \n",
       "salary_range           object           874   \n",
       "company_profile        object          1709   \n",
       "description            object         14801   \n",
       "requirements           object         11968   \n",
       "benefits               object          6205   \n",
       "telecommuting           int64             2   \n",
       "has_company_logo        int64             2   \n",
       "has_questions           int64             2   \n",
       "employment_type        object             5   \n",
       "required_experience    object             7   \n",
       "required_education     object            13   \n",
       "industry               object           131   \n",
       "function               object            37   \n",
       "fraudulent              int64             2   \n",
       "\n",
       "                                                                Levels    NaN  \\\n",
       "job_id                       [    1     2     3 ... 17878 17879 17880]      0   \n",
       "title                ['Marketing Intern' 'Customer Service - Cloud ...      0   \n",
       "location             ['US, NY, New York' 'NZ, , Auckland' 'US, IA, ...    346   \n",
       "department           ['Marketing' 'Success' nan ... 'Admin - Cleric...  11547   \n",
       "salary_range         [nan '20000-28000' '100000-120000' '120000-150...  15012   \n",
       "company_profile      [\"We're Food52, and we've created a groundbrea...   3308   \n",
       "description          ['Food52, a fast-growing, James Beard Award-wi...      1   \n",
       "requirements         ['Experience with content management systems a...   2695   \n",
       "benefits             [nan\\n 'What you will get from usThrough being...   7210   \n",
       "telecommuting                                                    [0 1]      0   \n",
       "has_company_logo                                                 [1 0]      0   \n",
       "has_questions                                                    [0 1]      0   \n",
       "employment_type      ['Other' 'Full-time' nan 'Part-time' 'Contract...   3471   \n",
       "required_experience  ['Internship' 'Not Applicable' nan 'Mid-Senior...   7050   \n",
       "required_education   [nan \"Bachelor's Degree\" \"Master's Degree\" 'Hi...   8105   \n",
       "industry             [nan 'Marketing and Advertising' 'Computer Sof...   4903   \n",
       "function             ['Marketing' 'Customer Service' nan 'Sales' 'H...   6455   \n",
       "fraudulent                                                       [0 1]      0   \n",
       "\n",
       "                      NaN%  \n",
       "job_id                 0.0  \n",
       "title                  0.0  \n",
       "location               3.5  \n",
       "department           115.5  \n",
       "salary_range         150.1  \n",
       "company_profile       33.1  \n",
       "description            0.0  \n",
       "requirements          27.0  \n",
       "benefits              72.1  \n",
       "telecommuting          0.0  \n",
       "has_company_logo       0.0  \n",
       "has_questions          0.0  \n",
       "employment_type       34.7  \n",
       "required_experience   70.5  \n",
       "required_education    81.0  \n",
       "industry              49.0  \n",
       "function              64.6  \n",
       "fraudulent             0.0  "
      ]
     },
     "execution_count": 4,
     "metadata": {},
     "output_type": "execute_result"
    }
   ],
   "source": [
    "def inspect_data(data):\n",
    "    return pd.DataFrame({\"Data Type\":data.dtypes,\"No of Levels\":data.apply(lambda x: x.nunique(),axis=0), \"Levels\":data.apply(lambda x:str(x.unique()),axis=0), \"NaN\":round(data.isnull().sum(),1),\"NaN%\":round(data.isnull().sum()/100,1)})\n",
    "inspect_data(data)"
   ]
  },
  {
   "cell_type": "code",
   "execution_count": 5,
   "id": "cf363f1f-6262-40fc-804a-73d28b3f1c37",
   "metadata": {},
   "outputs": [
    {
     "data": {
      "text/html": [
       "<div>\n",
       "<style scoped>\n",
       "    .dataframe tbody tr th:only-of-type {\n",
       "        vertical-align: middle;\n",
       "    }\n",
       "\n",
       "    .dataframe tbody tr th {\n",
       "        vertical-align: top;\n",
       "    }\n",
       "\n",
       "    .dataframe thead th {\n",
       "        text-align: right;\n",
       "    }\n",
       "</style>\n",
       "<table border=\"1\" class=\"dataframe\">\n",
       "  <thead>\n",
       "    <tr style=\"text-align: right;\">\n",
       "      <th></th>\n",
       "      <th>telecommuting</th>\n",
       "      <th>has_company_logo</th>\n",
       "      <th>has_questions</th>\n",
       "      <th>employment_type</th>\n",
       "      <th>required_experience</th>\n",
       "      <th>required_education</th>\n",
       "      <th>industry</th>\n",
       "      <th>function</th>\n",
       "      <th>fraudulent</th>\n",
       "    </tr>\n",
       "  </thead>\n",
       "  <tbody>\n",
       "    <tr>\n",
       "      <th>0</th>\n",
       "      <td>0</td>\n",
       "      <td>1</td>\n",
       "      <td>0</td>\n",
       "      <td>Other</td>\n",
       "      <td>Internship</td>\n",
       "      <td>NaN</td>\n",
       "      <td>NaN</td>\n",
       "      <td>Marketing</td>\n",
       "      <td>0</td>\n",
       "    </tr>\n",
       "    <tr>\n",
       "      <th>1</th>\n",
       "      <td>0</td>\n",
       "      <td>1</td>\n",
       "      <td>0</td>\n",
       "      <td>Full-time</td>\n",
       "      <td>Not Applicable</td>\n",
       "      <td>NaN</td>\n",
       "      <td>Marketing and Advertising</td>\n",
       "      <td>Customer Service</td>\n",
       "      <td>0</td>\n",
       "    </tr>\n",
       "    <tr>\n",
       "      <th>2</th>\n",
       "      <td>0</td>\n",
       "      <td>1</td>\n",
       "      <td>0</td>\n",
       "      <td>NaN</td>\n",
       "      <td>NaN</td>\n",
       "      <td>NaN</td>\n",
       "      <td>NaN</td>\n",
       "      <td>NaN</td>\n",
       "      <td>0</td>\n",
       "    </tr>\n",
       "    <tr>\n",
       "      <th>3</th>\n",
       "      <td>0</td>\n",
       "      <td>1</td>\n",
       "      <td>0</td>\n",
       "      <td>Full-time</td>\n",
       "      <td>Mid-Senior level</td>\n",
       "      <td>Bachelor's Degree</td>\n",
       "      <td>Computer Software</td>\n",
       "      <td>Sales</td>\n",
       "      <td>0</td>\n",
       "    </tr>\n",
       "    <tr>\n",
       "      <th>4</th>\n",
       "      <td>0</td>\n",
       "      <td>1</td>\n",
       "      <td>1</td>\n",
       "      <td>Full-time</td>\n",
       "      <td>Mid-Senior level</td>\n",
       "      <td>Bachelor's Degree</td>\n",
       "      <td>Hospital &amp; Health Care</td>\n",
       "      <td>Health Care Provider</td>\n",
       "      <td>0</td>\n",
       "    </tr>\n",
       "  </tbody>\n",
       "</table>\n",
       "</div>"
      ],
      "text/plain": [
       "   telecommuting  has_company_logo  has_questions employment_type  \\\n",
       "0              0                 1              0           Other   \n",
       "1              0                 1              0       Full-time   \n",
       "2              0                 1              0             NaN   \n",
       "3              0                 1              0       Full-time   \n",
       "4              0                 1              1       Full-time   \n",
       "\n",
       "  required_experience required_education                   industry  \\\n",
       "0          Internship                NaN                        NaN   \n",
       "1      Not Applicable                NaN  Marketing and Advertising   \n",
       "2                 NaN                NaN                        NaN   \n",
       "3    Mid-Senior level  Bachelor's Degree          Computer Software   \n",
       "4    Mid-Senior level  Bachelor's Degree     Hospital & Health Care   \n",
       "\n",
       "               function  fraudulent  \n",
       "0             Marketing           0  \n",
       "1      Customer Service           0  \n",
       "2                   NaN           0  \n",
       "3                 Sales           0  \n",
       "4  Health Care Provider           0  "
      ]
     },
     "execution_count": 5,
     "metadata": {},
     "output_type": "execute_result"
    }
   ],
   "source": [
    "# Delete unwanted columns from the data\n",
    "del_cols=['job_id','location','department','salary_range','company_profile','description','title','benefits','requirements']\n",
    "data=data.drop(del_cols,axis=1)\n",
    "data.head()"
   ]
  },
  {
   "cell_type": "code",
   "execution_count": 6,
   "id": "a4df182d-5b76-4465-b965-df5c51dceb10",
   "metadata": {},
   "outputs": [],
   "source": [
    "# Replacing NA values with 'Other' category\n",
    "data = data.replace(np.nan, 'Other', regex=True)"
   ]
  },
  {
   "cell_type": "code",
   "execution_count": 7,
   "id": "cf47fd40-e0a8-448d-b820-e2c6f7498597",
   "metadata": {},
   "outputs": [
    {
     "data": {
      "text/plain": [
       "telecommuting          0\n",
       "has_company_logo       0\n",
       "has_questions          0\n",
       "employment_type        0\n",
       "required_experience    0\n",
       "required_education     0\n",
       "industry               0\n",
       "function               0\n",
       "fraudulent             0\n",
       "dtype: int64"
      ]
     },
     "execution_count": 7,
     "metadata": {},
     "output_type": "execute_result"
    }
   ],
   "source": [
    "data.isnull().sum()"
   ]
  },
  {
   "cell_type": "code",
   "execution_count": 8,
   "id": "b2add626-7dd4-4c22-ae21-9b8aeaf3fa2e",
   "metadata": {},
   "outputs": [],
   "source": [
    "# Label encoding the categorical columns\n",
    "col_list=list(data.columns)\n",
    "le=LabelEncoder()\n",
    "for i in col_list:\n",
    "    if data[i].dtype=='object':\n",
    "        data[i]=le.fit_transform(data[i])"
   ]
  },
  {
   "cell_type": "code",
   "execution_count": 9,
   "id": "5a3b7610-936a-47f8-872f-77422de3c3da",
   "metadata": {},
   "outputs": [],
   "source": [
    "# defining dependent and independent variables\n",
    "y=data['fraudulent']\n",
    "x=data.drop(['fraudulent'],axis=1)"
   ]
  },
  {
   "cell_type": "code",
   "execution_count": 10,
   "id": "7cfe43f3-c9f9-4d19-b559-8a242021d0a8",
   "metadata": {},
   "outputs": [
    {
     "data": {
      "text/plain": [
       "<AxesSubplot:xlabel='Itarget', ylabel='Count'>"
      ]
     },
     "execution_count": 10,
     "metadata": {},
     "output_type": "execute_result"
    },
    {
     "data": {
      "image/png": "[encoded data removed]",
      "text/plain": [
       "<Figure size 432x288 with 1 Axes>"
      ]
     },
     "metadata": {
      "needs_background": "light"
     },
     "output_type": "display_data"
    }
   ],
   "source": [
    "y.value_counts().plot(kind='bar', xlabel='Itarget', ylabel='Count', rot=0)"
   ]
  },
  {
   "cell_type": "markdown",
   "id": "193f9ab7-08ac-4541-bf71-539b29cecab5",
   "metadata": {},
   "source": [
    "### Train and test split"
   ]
  },
  {
   "cell_type": "code",
   "execution_count": 12,
   "id": "972ea3d4-d1c5-4de2-adad-aa4b2a4db598",
   "metadata": {},
   "outputs": [],
   "source": [
    "x_train,x_test,y_train,y_test=train_test_split(x,y,random_state=10,test_size=0.2)"
   ]
  },
  {
   "cell_type": "code",
   "execution_count": 73,
   "id": "67823b98-bf43-4644-849b-772a315c8deb",
   "metadata": {},
   "outputs": [
    {
     "name": "stdout",
     "output_type": "stream",
     "text": [
      "(14304, 8)\n",
      "(3576, 8)\n",
      "(14304,)\n",
      "(3576,)\n"
     ]
    }
   ],
   "source": [
    "print(x_train.shape)\n",
    "print(x_test.shape)\n",
    "print(y_train.shape)\n",
    "print(y_test.shape)"
   ]
  },
  {
   "cell_type": "code",
   "execution_count": 81,
   "id": "d7d093ae-56ef-4bbd-b4cb-cc6e670c9ba2",
   "metadata": {},
   "outputs": [
    {
     "name": "stdout",
     "output_type": "stream",
     "text": [
      "0    3416\n",
      "1     160\n",
      "Name: fraudulent, dtype: int64\n"
     ]
    }
   ],
   "source": [
    "print(y_test.value_counts())"
   ]
  },
  {
   "cell_type": "markdown",
   "id": "b3210a58-e5ce-4bf3-bdaa-aa8d5583f87d",
   "metadata": {},
   "source": [
    "## Model implementation\n",
    "\n",
    "### Metric evaluation:\n",
    "\n",
    "1. In case of the fake job postings data, we need to predict if an applicant will be landing up in fake job or not.\n",
    "2. Our model is not only to be accurate but also need to be sensitive to type1 and type2 erros.\n",
    "3. The possible errors in our case are False Postive(FP) and False Negative(FN).\n",
    "4. Comparing each errors, both FP and FN are important in this case because if the model predicts fake job and if it is a real job posting then the applicant might loss the opportunity and if the model predicts real job and if it is fake job posting then the applicant might get into scam.\n",
    "5. Any cost, our model must make sure to reduce both the FN and FP and balance them. The best metric for both the errors is \"F1 Score\" because it takes both the ratio of precision and recall. \n",
    "\n",
    "Therefore we choose ,F1 score to be our final performance metric for comparision of model performance."
   ]
  },
  {
   "cell_type": "markdown",
   "id": "01dfa9a4-822d-4469-a749-684ff2a5ce4d",
   "metadata": {},
   "source": [
    "### Logistic regression"
   ]
  },
  {
   "cell_type": "code",
   "execution_count": 13,
   "id": "2b1a8411-7230-4026-bd69-59f63f16f4be",
   "metadata": {},
   "outputs": [
    {
     "name": "stderr",
     "output_type": "stream",
     "text": [
      "C:\\Users\\manis\\anaconda3\\lib\\site-packages\\sklearn\\linear_model\\_logistic.py:444: ConvergenceWarning: lbfgs failed to converge (status=1):\n",
      "STOP: TOTAL NO. of ITERATIONS REACHED LIMIT.\n",
      "\n",
      "Increase the number of iterations (max_iter) or scale the data as shown in:\n",
      "    https://scikit-learn.org/stable/modules/preprocessing.html\n",
      "Please also refer to the documentation for alternative solver options:\n",
      "    https://scikit-learn.org/stable/modules/linear_model.html#logistic-regression\n",
      "  n_iter_i = _check_optimize_result(\n"
     ]
    }
   ],
   "source": [
    "lr=LogisticRegression(random_state=11)\n",
    "lr.fit(x_train,y_train)\n",
    "pred_1=lr.predict(x_test)"
   ]
  },
  {
   "cell_type": "code",
   "execution_count": 71,
   "id": "604a905f-b06b-418f-9b5a-4a4f2ad0aca7",
   "metadata": {},
   "outputs": [
    {
     "name": "stdout",
     "output_type": "stream",
     "text": [
      "F1 score: 0.03636363636363636\n",
      "[[3414    2]\n",
      " [ 157    3]]\n"
     ]
    }
   ],
   "source": [
    "score_1=f1_score(y_test,pred_1)\n",
    "print('F1 score:',score_1)\n",
    "print(confusion_matrix(y_test,pred_1))"
   ]
  },
  {
   "cell_type": "markdown",
   "id": "a7431c77-d3da-4157-8c45-7e88ccb6d3ba",
   "metadata": {},
   "source": [
    "### Decision Trees"
   ]
  },
  {
   "cell_type": "code",
   "execution_count": 17,
   "id": "0d802675-39d5-43de-b2eb-f5b21c9f2c03",
   "metadata": {},
   "outputs": [],
   "source": [
    "dt = DecisionTreeClassifier(random_state=22)\n",
    "dt.fit(x_train,y_train)\n",
    "pred_2=dt.predict(x_test)"
   ]
  },
  {
   "cell_type": "code",
   "execution_count": 72,
   "id": "9de4bb10-ce6c-40f2-85e9-6645fbc9a494",
   "metadata": {},
   "outputs": [
    {
     "name": "stdout",
     "output_type": "stream",
     "text": [
      "F1 score: 0.5827338129496402\n",
      "[[3379   37]\n",
      " [  79   81]]\n"
     ]
    }
   ],
   "source": [
    "score_2=f1_score(y_test,pred_2)\n",
    "print('F1 score:',score_2)\n",
    "print(confusion_matrix(y_test,pred_2))"
   ]
  },
  {
   "cell_type": "markdown",
   "id": "55347ed4-8c54-431d-93a9-0a67f0eddb6b",
   "metadata": {},
   "source": [
    "## Random forest classifier"
   ]
  },
  {
   "cell_type": "code",
   "execution_count": 19,
   "id": "f7cc4f85-d304-473c-b533-f97b1bb0cf84",
   "metadata": {},
   "outputs": [],
   "source": [
    "rfc=RandomForestClassifier()\n",
    "rfc.fit(x_train,y_train)\n",
    "pred_3=rfc.predict(x_test)"
   ]
  },
  {
   "cell_type": "code",
   "execution_count": 82,
   "id": "6572b9c7-882a-41f8-87b0-0a605afd0269",
   "metadata": {},
   "outputs": [
    {
     "name": "stdout",
     "output_type": "stream",
     "text": [
      "F1 score: 0.611764705882353\n",
      "[[3399   17]\n",
      " [  82   78]]\n"
     ]
    }
   ],
   "source": [
    "score_3=f1_score(y_test,pred_3)\n",
    "print('F1 score:',score_3)\n",
    "print(confusion_matrix(y_test,pred_3))"
   ]
  },
  {
   "cell_type": "markdown",
   "id": "3c0bafbd-2915-4608-ae35-bb8af994cbd9",
   "metadata": {},
   "source": [
    "## Addressing the data imbalance"
   ]
  },
  {
   "cell_type": "code",
   "execution_count": 11,
   "id": "686af03f-1f15-4a00-83fa-dfe65157459e",
   "metadata": {},
   "outputs": [
    {
     "name": "stdout",
     "output_type": "stream",
     "text": [
      "   Total real cases: 17014\n",
      "   Total fake cases: 866\n"
     ]
    }
   ],
   "source": [
    "real_N = len(data[data.fraudulent== 0])  \n",
    "fake_N = len(data[data.fraudulent== 1]) \n",
    "\n",
    "print(f\"   Total real cases: {real_N}\")\n",
    "print(f\"   Total fake cases: {fake_N}\")"
   ]
  },
  {
   "cell_type": "markdown",
   "id": "1681bd9a-bb97-4f5e-9c80-0c6b88a83244",
   "metadata": {},
   "source": [
    "We can clearly say that the data is imbalanced and baised to real cases. 95% of the data is towrads real cases. To balance the data we are applying oversampling technique"
   ]
  },
  {
   "cell_type": "code",
   "execution_count": 24,
   "id": "d065fc4d-aa32-44e8-897a-9206ec432a7d",
   "metadata": {},
   "outputs": [
    {
     "data": {
      "text/plain": [
       "<AxesSubplot:xlabel='fraudulent', ylabel='count'>"
      ]
     },
     "execution_count": 24,
     "metadata": {},
     "output_type": "execute_result"
    },
    {
     "data": {
      "image/png": "[encoded data removed]",
      "text/plain": [
       "<Figure size 432x288 with 1 Axes>"
      ]
     },
     "metadata": {
      "needs_background": "light"
     },
     "output_type": "display_data"
    }
   ],
   "source": [
    "smote = SMOTE(random_state =300)\n",
    "X_smote, Y_smote = smote.fit_resample(x,y)\n",
    "sns.countplot(Y_smote)"
   ]
  },
  {
   "cell_type": "code",
   "execution_count": 25,
   "id": "c912d9ee-4a7e-40c7-9a21-8bf435b99d69",
   "metadata": {},
   "outputs": [],
   "source": [
    "smotex_train, smotex_test, smotey_train, smotey_test = train_test_split(X_smote, Y_smote, test_size=0.3,random_state=1)"
   ]
  },
  {
   "cell_type": "code",
   "execution_count": 33,
   "id": "49800371-590d-4689-ba32-bb94d5c15ee9",
   "metadata": {},
   "outputs": [
    {
     "name": "stdout",
     "output_type": "stream",
     "text": [
      "(23819, 8)\n",
      "(23819,)\n",
      "(10209, 8)\n",
      "(10209,)\n"
     ]
    }
   ],
   "source": [
    "print(smotex_train.shape)\n",
    "print(smotey_train.shape)\n",
    "print(smotex_test.shape)\n",
    "print(smotey_test.shape)"
   ]
  },
  {
   "cell_type": "code",
   "execution_count": 84,
   "id": "a7c8513e-65ed-4abb-8c01-6b89f26e9b64",
   "metadata": {},
   "outputs": [
    {
     "name": "stdout",
     "output_type": "stream",
     "text": [
      "0    5171\n",
      "1    5038\n",
      "Name: fraudulent, dtype: int64\n"
     ]
    }
   ],
   "source": [
    "print(smotey_test.value_counts())"
   ]
  },
  {
   "cell_type": "markdown",
   "id": "6e67f493-e383-4148-a4e8-4b93f3c758db",
   "metadata": {},
   "source": [
    "### Logistic regression"
   ]
  },
  {
   "cell_type": "code",
   "execution_count": 26,
   "id": "0d4d14c6-6381-40d2-96c8-3d3678bfa543",
   "metadata": {},
   "outputs": [
    {
     "name": "stderr",
     "output_type": "stream",
     "text": [
      "C:\\Users\\manis\\anaconda3\\lib\\site-packages\\sklearn\\linear_model\\_logistic.py:444: ConvergenceWarning: lbfgs failed to converge (status=1):\n",
      "STOP: TOTAL NO. of ITERATIONS REACHED LIMIT.\n",
      "\n",
      "Increase the number of iterations (max_iter) or scale the data as shown in:\n",
      "    https://scikit-learn.org/stable/modules/preprocessing.html\n",
      "Please also refer to the documentation for alternative solver options:\n",
      "    https://scikit-learn.org/stable/modules/linear_model.html#logistic-regression\n",
      "  n_iter_i = _check_optimize_result(\n"
     ]
    }
   ],
   "source": [
    "lr1=LogisticRegression(random_state=21)\n",
    "lr1.fit(smotex_train,smotey_train)\n",
    "predict_1=lr1.predict(smotex_test)"
   ]
  },
  {
   "cell_type": "code",
   "execution_count": 85,
   "id": "98958f62-5a52-4bff-aae7-48bcbbaf6c32",
   "metadata": {},
   "outputs": [
    {
     "name": "stdout",
     "output_type": "stream",
     "text": [
      "F1 score: 0.7522577996715927\n",
      "[[4130 1041]\n",
      " [1373 3665]]\n"
     ]
    }
   ],
   "source": [
    "score1=f1_score(smotey_test,predict_1)\n",
    "print('F1 score:',score1)\n",
    "print(confusion_matrix(smotey_test,predict_1))"
   ]
  },
  {
   "cell_type": "markdown",
   "id": "14245e18-cd98-4d44-ba41-58e37a6420ac",
   "metadata": {},
   "source": [
    "### Decision Trees"
   ]
  },
  {
   "cell_type": "code",
   "execution_count": 30,
   "id": "8a0759a3-363c-419f-a676-85b23fb32441",
   "metadata": {},
   "outputs": [],
   "source": [
    "dt1 = DecisionTreeClassifier(random_state=1)\n",
    "dt1.fit(smotex_train,smotey_train)\n",
    "predict_2=dt.predict(smotex_test)"
   ]
  },
  {
   "cell_type": "code",
   "execution_count": 86,
   "id": "2ee12c31-4af4-4c5d-9099-b7db092c37b2",
   "metadata": {},
   "outputs": [
    {
     "name": "stdout",
     "output_type": "stream",
     "text": [
      "F1 score: 0.7428216283405842\n",
      "[[5152   19]\n",
      " [2050 2988]]\n"
     ]
    }
   ],
   "source": [
    "score2=f1_score(smotey_test,predict_2)\n",
    "print('F1 score:',score2)\n",
    "print(confusion_matrix(smotey_test,predict_2))"
   ]
  },
  {
   "cell_type": "markdown",
   "id": "12f3f16a-fecb-49ad-930d-f44cd2adeffd",
   "metadata": {},
   "source": [
    "### KNN"
   ]
  },
  {
   "cell_type": "code",
   "execution_count": 34,
   "id": "557a9d78-796a-477d-b3a9-0e875f4bfea1",
   "metadata": {},
   "outputs": [],
   "source": [
    "knn1 = KNeighborsClassifier(n_neighbors=187,  metric='euclidean')\n",
    "knn1.fit(smotex_train,smotey_train)\n",
    "predict_3=knn1.predict(smotex_test)"
   ]
  },
  {
   "cell_type": "code",
   "execution_count": 87,
   "id": "5b543e9d-6b69-4400-b6be-7c9acd6684d0",
   "metadata": {},
   "outputs": [
    {
     "name": "stdout",
     "output_type": "stream",
     "text": [
      "F1 score: 0.7921267402784445\n",
      "[[3919 1252]\n",
      " [ 913 4125]]\n"
     ]
    }
   ],
   "source": [
    "score3 = f1_score(smotey_test,predict_3)\n",
    "print('F1 score:',score3)\n",
    "print(confusion_matrix(smotey_test,predict_3))"
   ]
  },
  {
   "cell_type": "markdown",
   "id": "e2d57430-29cb-4ccb-b71d-de44641e0dc3",
   "metadata": {},
   "source": [
    "### parameter tuning using knn "
   ]
  },
  {
   "cell_type": "code",
   "execution_count": 44,
   "id": "70fafe6e-c094-4e47-bffe-6bb73101478e",
   "metadata": {},
   "outputs": [
    {
     "name": "stdout",
     "output_type": "stream",
     "text": [
      "Wall time: 0 ns\n",
      "Best leaf_size: 1\n",
      "Best p: 1\n",
      "Best n_neighbors: 1\n"
     ]
    }
   ],
   "source": [
    "## #List Hyperparameters that we want to tune.\n",
    "%%time\n",
    "leaf_size = list(range(1,50,5))\n",
    "n_neighbors = list(range(1,200,5))\n",
    "p=[1,2]\n",
    "#Convert to dictionary\n",
    "hyperparameters = dict(leaf_size=leaf_size, n_neighbors=n_neighbors, p=p)\n",
    "#Create new KNN object\n",
    "knn_2 = KNeighborsClassifier()\n",
    "#Use GridSearch\n",
    "clf = GridSearchCV(knn_2, hyperparameters, cv=10,n_jobs=-1)\n",
    "#Fit the model\n",
    "best_model1 = clf.fit(smotex_train,smotey_train)\n",
    "#Print The value of best Hyperparameters\n",
    "print('Best leaf_size:', best_model1.best_estimator_.get_params()['leaf_size'])\n",
    "print('Best p:', best_model1.best_estimator_.get_params()['p'])\n",
    "print('Best n_neighbors:', best_model1.best_estimator_.get_params()['n_neighbors'])"
   ]
  },
  {
   "cell_type": "code",
   "execution_count": 93,
   "id": "d0b42fa2-7920-4077-81ea-3592ca3395a7",
   "metadata": {},
   "outputs": [
    {
     "name": "stdout",
     "output_type": "stream",
     "text": [
      "F1 score: 0.9172529977207413\n",
      "[[4746  425]\n",
      " [ 410 4628]]\n"
     ]
    }
   ],
   "source": [
    "predict_4=best_model1.predict(smotex_test)\n",
    "score4 = f1_score(smotey_test,predict_4)\n",
    "print('F1 score:',score4)\n",
    "print(confusion_matrix(smotey_test,predict_4))"
   ]
  },
  {
   "cell_type": "markdown",
   "id": "42acc64b-054c-4021-9d4a-d0bc0a6caeef",
   "metadata": {},
   "source": [
    "### Random forest classifier"
   ]
  },
  {
   "cell_type": "code",
   "execution_count": 46,
   "id": "8b753dfa-0939-4c5e-9b3c-1b6d70556495",
   "metadata": {},
   "outputs": [],
   "source": [
    "classifier = RandomForestClassifier(random_state = 42)\n",
    "classifier.fit(smotex_train,smotey_train)\n",
    "predict_5=classifier.predict(smotex_test)"
   ]
  },
  {
   "cell_type": "code",
   "execution_count": 92,
   "id": "c9d653bd-82ad-48dd-ae4f-0b416debdb76",
   "metadata": {},
   "outputs": [
    {
     "name": "stdout",
     "output_type": "stream",
     "text": [
      "F1 score: 0.9257233767525107\n",
      "[[4807  364]\n",
      " [ 383 4655]]\n"
     ]
    }
   ],
   "source": [
    "score5 = f1_score(smotey_test,predict_5)\n",
    "print('F1 score:',score5)\n",
    "print(confusion_matrix(smotey_test,predict_5))"
   ]
  },
  {
   "cell_type": "markdown",
   "id": "3030a986-58e7-4b8e-8842-8e14b6b75990",
   "metadata": {},
   "source": [
    "### Parameter tuning with random forest"
   ]
  },
  {
   "cell_type": "code",
   "execution_count": 69,
   "id": "d338ae34-8173-409e-a9c5-44f6e8b91cd1",
   "metadata": {},
   "outputs": [
    {
     "name": "stderr",
     "output_type": "stream",
     "text": [
      "C:\\Users\\manis\\anaconda3\\lib\\site-packages\\sklearn\\model_selection\\_validation.py:378: FitFailedWarning: \n",
      "3840 fits failed out of a total of 19200.\n",
      "The score on these train-test partitions for these parameters will be set to nan.\n",
      "If these failures are not expected, you can try to debug them by setting error_score='raise'.\n",
      "\n",
      "Below are more details about the failures:\n",
      "--------------------------------------------------------------------------------\n",
      "3840 fits failed with the following error:\n",
      "Traceback (most recent call last):\n",
      "  File \"C:\\Users\\manis\\anaconda3\\lib\\site-packages\\sklearn\\model_selection\\_validation.py\", line 686, in _fit_and_score\n",
      "    estimator.fit(X_train, y_train, **fit_params)\n",
      "  File \"C:\\Users\\manis\\anaconda3\\lib\\site-packages\\sklearn\\ensemble\\_forest.py\", line 476, in fit\n",
      "    trees = Parallel(\n",
      "  File \"C:\\Users\\manis\\anaconda3\\lib\\site-packages\\joblib\\parallel.py\", line 1041, in __call__\n",
      "    if self.dispatch_one_batch(iterator):\n",
      "  File \"C:\\Users\\manis\\anaconda3\\lib\\site-packages\\joblib\\parallel.py\", line 859, in dispatch_one_batch\n",
      "    self._dispatch(tasks)\n",
      "  File \"C:\\Users\\manis\\anaconda3\\lib\\site-packages\\joblib\\parallel.py\", line 777, in _dispatch\n",
      "    job = self._backend.apply_async(batch, callback=cb)\n",
      "  File \"C:\\Users\\manis\\anaconda3\\lib\\site-packages\\joblib\\_parallel_backends.py\", line 208, in apply_async\n",
      "    result = ImmediateResult(func)\n",
      "  File \"C:\\Users\\manis\\anaconda3\\lib\\site-packages\\joblib\\_parallel_backends.py\", line 572, in __init__\n",
      "    self.results = batch()\n",
      "  File \"C:\\Users\\manis\\anaconda3\\lib\\site-packages\\joblib\\parallel.py\", line 262, in __call__\n",
      "    return [func(*args, **kwargs)\n",
      "  File \"C:\\Users\\manis\\anaconda3\\lib\\site-packages\\joblib\\parallel.py\", line 262, in <listcomp>\n",
      "    return [func(*args, **kwargs)\n",
      "  File \"C:\\Users\\manis\\anaconda3\\lib\\site-packages\\sklearn\\utils\\fixes.py\", line 117, in __call__\n",
      "    return self.function(*args, **kwargs)\n",
      "  File \"C:\\Users\\manis\\anaconda3\\lib\\site-packages\\sklearn\\ensemble\\_forest.py\", line 189, in _parallel_build_trees\n",
      "    tree.fit(X, y, sample_weight=curr_sample_weight, check_input=False)\n",
      "  File \"C:\\Users\\manis\\anaconda3\\lib\\site-packages\\sklearn\\tree\\_classes.py\", line 969, in fit\n",
      "    super().fit(\n",
      "  File \"C:\\Users\\manis\\anaconda3\\lib\\site-packages\\sklearn\\tree\\_classes.py\", line 265, in fit\n",
      "    check_scalar(\n",
      "  File \"C:\\Users\\manis\\anaconda3\\lib\\site-packages\\sklearn\\utils\\validation.py\", line 1480, in check_scalar\n",
      "    raise ValueError(\n",
      "ValueError: min_samples_split == 1, must be >= 2.\n",
      "\n",
      "  warnings.warn(some_fits_failed_message, FitFailedWarning)\n",
      "C:\\Users\\manis\\anaconda3\\lib\\site-packages\\sklearn\\model_selection\\_search.py:953: UserWarning: One or more of the test scores are non-finite: [       nan        nan        nan ... 0.89844275 0.89844279 0.89848477]\n",
      "  warnings.warn(\n"
     ]
    },
    {
     "name": "stdout",
     "output_type": "stream",
     "text": [
      "{'bootstrap': True, 'ccp_alpha': 0.0, 'class_weight': None, 'criterion': 'gini', 'max_depth': 9, 'max_features': None, 'max_leaf_nodes': None, 'max_samples': None, 'min_impurity_decrease': 0.0, 'min_samples_leaf': 2, 'min_samples_split': 3, 'min_weight_fraction_leaf': 0.0, 'n_estimators': 300, 'n_jobs': None, 'oob_score': False, 'random_state': 20, 'verbose': 0, 'warm_start': False}\n",
      "Wall time: 2h 58s\n"
     ]
    }
   ],
   "source": [
    "%%time\n",
    "rd_grid = {'n_estimators': [50,100,200,300],\n",
    "              'max_depth': [3,5,7,9],\n",
    "              'max_features': ['auto', 'sqrt', None],\n",
    "              'min_samples_split': range(1,10,2),\n",
    "              'min_samples_leaf': range(2,10,2),\n",
    "              'criterion': ['gini', 'entropy']}\n",
    "classifier1 = RandomForestClassifier(random_state=20)\n",
    "rf_search=GridSearchCV(estimator=classifier1, param_grid=rd_grid, cv=10,n_jobs=-1)\n",
    "rf_search.fit(smotex_train,smotey_train)\n",
    "print(rf_search.best_estimator_.get_params())\n",
    "predict_6 = rf_search.predict(smotex_test)"
   ]
  },
  {
   "cell_type": "code",
   "execution_count": 91,
   "id": "88410c80-1e88-4e5d-8b29-cca95c5f08d8",
   "metadata": {},
   "outputs": [
    {
     "name": "stdout",
     "output_type": "stream",
     "text": [
      "F1 score: 0.8937183685620721\n",
      "[[4635  536]\n",
      " [ 535 4503]]\n"
     ]
    }
   ],
   "source": [
    "score6 = f1_score(smotey_test,predict_6)\n",
    "print('F1 score:',score6)\n",
    "print(confusion_matrix(smotey_test,predict_6))"
   ]
  },
  {
   "cell_type": "markdown",
   "id": "5c019f27-0d25-4cc4-bb68-ce25df67ef3c",
   "metadata": {},
   "source": [
    "### XGBoost classifier"
   ]
  },
  {
   "cell_type": "code",
   "execution_count": 51,
   "id": "3fbf13ef-e129-4d3c-bbce-f91698c5b622",
   "metadata": {},
   "outputs": [],
   "source": [
    "xgboost = XGBClassifier(random_state=1)\n",
    "xgboost.fit(smotex_train,smotey_train)\n",
    "predict_7 = xgboost.predict(smotex_test)"
   ]
  },
  {
   "cell_type": "code",
   "execution_count": 90,
   "id": "581b61b8-0997-455c-8d88-861765e1384d",
   "metadata": {},
   "outputs": [
    {
     "name": "stdout",
     "output_type": "stream",
     "text": [
      "F1 score: 0.9203469245339448\n",
      "[[4794  377]\n",
      " [ 422 4616]]\n"
     ]
    }
   ],
   "source": [
    "score7 = f1_score(smotey_test,predict_7)\n",
    "print('F1 score:',score7)\n",
    "print(confusion_matrix(smotey_test,predict_7))"
   ]
  },
  {
   "cell_type": "markdown",
   "id": "9869d988-3181-4c47-8686-9caff62b3a93",
   "metadata": {},
   "source": [
    "### Parameter tuning with XGBoost"
   ]
  },
  {
   "cell_type": "code",
   "execution_count": 62,
   "id": "222f8f27-ff77-4d41-bd40-613bfda4dc0c",
   "metadata": {},
   "outputs": [
    {
     "name": "stdout",
     "output_type": "stream",
     "text": [
      "{'objective': 'binary:logistic', 'use_label_encoder': False, 'base_score': 0.5, 'booster': 'gbtree', 'callbacks': None, 'colsample_bylevel': 1, 'colsample_bynode': 1, 'colsample_bytree': 1, 'early_stopping_rounds': None, 'enable_categorical': False, 'eval_metric': None, 'gamma': 0.01, 'gpu_id': -1, 'grow_policy': 'depthwise', 'importance_type': None, 'interaction_constraints': '', 'learning_rate': 1, 'max_bin': 256, 'max_cat_to_onehot': 4, 'max_delta_step': 0, 'max_depth': 7, 'max_leaves': 0, 'min_child_weight': 1, 'missing': nan, 'monotone_constraints': '()', 'n_estimators': 300, 'n_jobs': 0, 'num_parallel_tree': 1, 'predictor': 'auto', 'random_state': 0, 'reg_alpha': 0, 'reg_lambda': 1, 'sampling_method': 'uniform', 'scale_pos_weight': 1, 'subsample': 1, 'tree_method': 'exact', 'validate_parameters': 1, 'verbosity': None}\n"
     ]
    }
   ],
   "source": [
    "# Create the random grid\n",
    "param_grid_random = {\n",
    "    \"n_estimators\" : range(100, 500, 50),\n",
    "    \"max_depth\" : range(3, 9, 2),\n",
    "    \"gamma\" : [0.01, 0.1],\n",
    "    \"learning_rate\" : [0.001, 0.01, 0.1, 1]\n",
    "}\n",
    "\n",
    "xgboost2 = XGBClassifier()\n",
    "xgb_search =GridSearchCV(estimator=xgboost2, param_grid=param_grid_random, cv=3,n_jobs=-1)\n",
    "best_xgb = xgb_search.fit(smotex_train,smotey_train)\n",
    "print(best_xgb.best_estimator_.get_params())\n",
    "predict_8 = best_xgb.predict(smotex_test)"
   ]
  },
  {
   "cell_type": "code",
   "execution_count": 89,
   "id": "e0a9407b-b30a-42a1-a3cd-bd007feb08e7",
   "metadata": {},
   "outputs": [
    {
     "name": "stdout",
     "output_type": "stream",
     "text": [
      "F1 score: 0.9244682965613198\n",
      "[[4798  373]\n",
      " [ 387 4651]]\n"
     ]
    }
   ],
   "source": [
    "score8 = f1_score(smotey_test,predict_8)\n",
    "print('F1 score:',score8)\n",
    "print(confusion_matrix(smotey_test,predict_8))"
   ]
  },
  {
   "cell_type": "markdown",
   "id": "d985aa92-7e3f-4f63-b65a-29c518f1f79d",
   "metadata": {},
   "source": [
    "## Analysis\n",
    "\n",
    "For the above data we have applied various modelling techniques like logistic, decision trees and ensemble models with hyperparameter tuning. Among all the models with best parameters we achieved good results for random forest classifier.\n",
    "\n",
    "### F1 score with random forest classifier: 0.9257233767525107"
   ]
  },
  {
   "cell_type": "code",
   "execution_count": null,
   "id": "6ac6d206-5bb6-4211-be30-af80e17af584",
   "metadata": {},
   "outputs": [],
   "source": []
  },
  {
   "cell_type": "code",
   "execution_count": null,
   "id": "e7d87291-b0c2-4a1d-835d-491684f665ba",
   "metadata": {},
   "outputs": [],
   "source": []
  }
 ],
 "metadata": {
  "kernelspec": {
   "display_name": "Python 3",
   "language": "python",
   "name": "python3"
  },
  "language_info": {
   "codemirror_mode": {
    "name": "ipython",
    "version": 3
   },
   "file_extension": ".py",
   "mimetype": "text/x-python",
   "name": "python",
   "nbconvert_exporter": "python",
   "pygments_lexer": "ipython3",
   "version": "3.8.8"
  }
 },
 "nbformat": 4,
 "nbformat_minor": 5
}
